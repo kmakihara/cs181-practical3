{
 "cells": [
  {
   "cell_type": "code",
   "execution_count": 32,
   "metadata": {
    "collapsed": false
   },
   "outputs": [],
   "source": [
    "import numpy as np\n",
    "import csv\n",
    "from sklearn.cross_validation import train_test_split\n",
    "from scipy.stats.stats import pearsonr\n",
    "from sklearn.metrics import mean_absolute_error "
   ]
  },
  {
   "cell_type": "code",
   "execution_count": 9,
   "metadata": {
    "collapsed": false,
    "scrolled": true
   },
   "outputs": [],
   "source": [
    "import pandas as pd\n",
    "import graphlab\n",
    "\n",
    "\"\"\"\n",
    "Read in train and test as Pandas DataFrames\n",
    "\"\"\"\n",
    "df_profiles = pd.read_csv(\"profiles.csv\")\n",
    "df_train = pd.read_csv(\"train.csv\")\n",
    "df_train_with_users = pd.read_csv(\"train_with_users.csv\")"
   ]
  },
  {
   "cell_type": "code",
   "execution_count": 13,
   "metadata": {
    "collapsed": false,
    "scrolled": true
   },
   "outputs": [
    {
     "data": {
      "text/html": [
       "<pre>Finished parsing file /Users/kazuma/Desktop/CS_projects/cs181-s17-kmakihara/181_practicals/cs181-practical3/artists.csv</pre>"
      ],
      "text/plain": [
       "Finished parsing file /Users/kazuma/Desktop/CS_projects/cs181-s17-kmakihara/181_practicals/cs181-practical3/artists.csv"
      ]
     },
     "metadata": {},
     "output_type": "display_data"
    },
    {
     "data": {
      "text/html": [
       "<pre>Parsing completed. Parsed 100 lines in 0.026238 secs.</pre>"
      ],
      "text/plain": [
       "Parsing completed. Parsed 100 lines in 0.026238 secs."
      ]
     },
     "metadata": {},
     "output_type": "display_data"
    },
    {
     "name": "stdout",
     "output_type": "stream",
     "text": [
      "------------------------------------------------------\n",
      "Inferred types from first 100 line(s) of file as \n",
      "column_type_hints=[str,str]\n",
      "If parsing fails due to incorrect types, you can correct\n",
      "the inferred type list above and pass it to read_csv in\n",
      "the column_type_hints argument\n",
      "------------------------------------------------------\n"
     ]
    },
    {
     "data": {
      "text/html": [
       "<pre>Finished parsing file /Users/kazuma/Desktop/CS_projects/cs181-s17-kmakihara/181_practicals/cs181-practical3/artists.csv</pre>"
      ],
      "text/plain": [
       "Finished parsing file /Users/kazuma/Desktop/CS_projects/cs181-s17-kmakihara/181_practicals/cs181-practical3/artists.csv"
      ]
     },
     "metadata": {},
     "output_type": "display_data"
    },
    {
     "data": {
      "text/html": [
       "<pre>Parsing completed. Parsed 2000 lines in 0.012505 secs.</pre>"
      ],
      "text/plain": [
       "Parsing completed. Parsed 2000 lines in 0.012505 secs."
      ]
     },
     "metadata": {},
     "output_type": "display_data"
    }
   ],
   "source": [
    "sf_train = graphlab.SFrame(df_train)\n",
    "# sf_profiles = graphlab.SFrame(df_profiles)\n",
    "sf_artists = graphlab.SFrame.read_csv(\"artists.csv\")"
   ]
  },
  {
   "cell_type": "code",
   "execution_count": 65,
   "metadata": {
    "collapsed": false
   },
   "outputs": [],
   "source": [
    "training_set, validation_set = graphlab.recommender.util.random_split_by_user(sf_train, user_id = 'user', item_id='artist', max_num_users=150000)"
   ]
  },
  {
   "cell_type": "code",
   "execution_count": 71,
   "metadata": {
    "collapsed": false,
    "scrolled": true
   },
   "outputs": [
    {
     "data": {
      "text/html": [
       "<pre>Recsys training: model = popularity</pre>"
      ],
      "text/plain": [
       "Recsys training: model = popularity"
      ]
     },
     "metadata": {},
     "output_type": "display_data"
    },
    {
     "data": {
      "text/html": [
       "<pre>Preparing data set.</pre>"
      ],
      "text/plain": [
       "Preparing data set."
      ]
     },
     "metadata": {},
     "output_type": "display_data"
    },
    {
     "data": {
      "text/html": [
       "<pre>    Data has 3620458 observations with 233286 users and 2000 items.</pre>"
      ],
      "text/plain": [
       "    Data has 3620458 observations with 233286 users and 2000 items."
      ]
     },
     "metadata": {},
     "output_type": "display_data"
    },
    {
     "data": {
      "text/html": [
       "<pre>    Data prepared in: 3.8797s</pre>"
      ],
      "text/plain": [
       "    Data prepared in: 3.8797s"
      ]
     },
     "metadata": {},
     "output_type": "display_data"
    },
    {
     "data": {
      "text/html": [
       "<pre>3620458 observations to process; with 2000 unique items.</pre>"
      ],
      "text/plain": [
       "3620458 observations to process; with 2000 unique items."
      ]
     },
     "metadata": {},
     "output_type": "display_data"
    }
   ],
   "source": [
    "popularity_recommender = graphlab.popularity_recommender.create(training_set, user_id = 'user', item_id='artist', target='plays')"
   ]
  },
  {
   "cell_type": "code",
   "execution_count": 126,
   "metadata": {
    "collapsed": false,
    "scrolled": false
   },
   "outputs": [
    {
     "name": "stdout",
     "output_type": "stream",
     "text": [
      "+-------------------------------+-------------------------------+---------------+\n",
      "|              user             |             artist            |     score     |\n",
      "+-------------------------------+-------------------------------+---------------+\n",
      "| eb1c57ddc9e0e2d005169d3a1a... | e69c8ccb-25b1-4c4a-89c6-8f... | 724.307219662 |\n",
      "| eb1c57ddc9e0e2d005169d3a1a... | b3a70929-32bc-4ace-994f-43... |  714.48951049 |\n",
      "| eb1c57ddc9e0e2d005169d3a1a... | 5ffb73c0-b739-4231-ba22-f8... | 613.647912886 |\n",
      "| eb1c57ddc9e0e2d005169d3a1a... | 72d3dc3f-3984-42b9-89de-42... | 612.569491525 |\n",
      "| eb1c57ddc9e0e2d005169d3a1a... | 92bb085a-2924-4479-b627-18... |  603.94606414 |\n",
      "| eb1c57ddc9e0e2d005169d3a1a... | 31745282-b1ea-4d62-939f-22... | 603.445549879 |\n",
      "| eb1c57ddc9e0e2d005169d3a1a... | dcaa4f81-bfb7-44eb-8594-4e... | 593.879752182 |\n",
      "| eb1c57ddc9e0e2d005169d3a1a... | 99acd557-c4e2-4086-9be9-85... | 574.386084584 |\n",
      "| eb1c57ddc9e0e2d005169d3a1a... | c0eee88b-47f2-4cd2-ac48-a0... | 568.155752212 |\n",
      "| eb1c57ddc9e0e2d005169d3a1a... | 22cbe400-9906-4c47-973c-b7... |     549.52    |\n",
      "| 44ce793a6cd9d20f13f4a576a8... | e69c8ccb-25b1-4c4a-89c6-8f... | 724.307219662 |\n",
      "| 44ce793a6cd9d20f13f4a576a8... | b3a70929-32bc-4ace-994f-43... |  714.48951049 |\n",
      "| 44ce793a6cd9d20f13f4a576a8... | 5ffb73c0-b739-4231-ba22-f8... | 613.647912886 |\n",
      "| 44ce793a6cd9d20f13f4a576a8... | 72d3dc3f-3984-42b9-89de-42... | 612.569491525 |\n",
      "| 44ce793a6cd9d20f13f4a576a8... | 92bb085a-2924-4479-b627-18... |  603.94606414 |\n",
      "| 44ce793a6cd9d20f13f4a576a8... | 31745282-b1ea-4d62-939f-22... | 603.445549879 |\n",
      "| 44ce793a6cd9d20f13f4a576a8... | dcaa4f81-bfb7-44eb-8594-4e... | 593.879752182 |\n",
      "| 44ce793a6cd9d20f13f4a576a8... | 99acd557-c4e2-4086-9be9-85... | 574.386084584 |\n",
      "| 44ce793a6cd9d20f13f4a576a8... | c0eee88b-47f2-4cd2-ac48-a0... | 568.155752212 |\n",
      "| 44ce793a6cd9d20f13f4a576a8... | 22cbe400-9906-4c47-973c-b7... |     549.52    |\n",
      "+-------------------------------+-------------------------------+---------------+\n",
      "+------+\n",
      "| rank |\n",
      "+------+\n",
      "|  1   |\n",
      "|  2   |\n",
      "|  3   |\n",
      "|  4   |\n",
      "|  5   |\n",
      "|  6   |\n",
      "|  7   |\n",
      "|  8   |\n",
      "|  9   |\n",
      "|  10  |\n",
      "|  1   |\n",
      "|  2   |\n",
      "|  3   |\n",
      "|  4   |\n",
      "|  5   |\n",
      "|  6   |\n",
      "|  7   |\n",
      "|  8   |\n",
      "|  9   |\n",
      "|  10  |\n",
      "+------+\n",
      "[2332860 rows x 4 columns]\n",
      "\n"
     ]
    }
   ],
   "source": [
    "popularity_recommendations.print_rows(num_rows = 20)"
   ]
  },
  {
   "cell_type": "code",
   "execution_count": 142,
   "metadata": {
    "collapsed": false
   },
   "outputs": [],
   "source": [
    "correct_plays = validation_set.select_column('plays')"
   ]
  },
  {
   "cell_type": "code",
   "execution_count": 143,
   "metadata": {
    "collapsed": false
   },
   "outputs": [],
   "source": [
    "validation_set = validation_set.remove_column('plays')"
   ]
  },
  {
   "cell_type": "code",
   "execution_count": 153,
   "metadata": {
    "collapsed": true
   },
   "outputs": [],
   "source": [
    "popularity_validation_predictions = popularity_recommender.predict(validation_set)"
   ]
  },
  {
   "cell_type": "code",
   "execution_count": 154,
   "metadata": {
    "collapsed": false
   },
   "outputs": [
    {
     "data": {
      "text/plain": [
       "dtype: float\n",
       "Rows: 534346\n",
       "[219.97356283046463, 419.60562679833754, 203.4778051787916, 209.2446134347275, 320.59893226559893, 273.9009009009009, 225.25102351152182, 239.02605406065044, 282.29569308722404, 313.53348729792145, 145.92638036809817, 146.53859348198972, 283.25255182573926, 219.97356283046463, 365.84656845131155, 294.83139784946235, 368.14915254237286, 244.22125857200484, 254.96327924850556, 332.1212653778559, 147.40545938748335, 321.3231441048035, 243.75486381322958, 382.3985384708298, 138.45662100456622, 219.97356283046463, 332.6412958902172, 384.8214542836573, 298.67660480681474, 129.88723776223776, 135.9567474048443, 260.0714481248289, 242.37048665620094, 470.9228510411105, 142.49780701754386, 291.66569555717405, 209.8979065098939, 297.41786210087923, 327.13988574776624, 247.6553059643687, 216.9094099178133, 388.0770864567716, 218.5464495461826, 324.599674796748, 198.83506300963677, 285.75530243519245, 303.8185654008439, 215.0746237458194, 172.1479601087942, 220.44746471510717, 212.85003274394236, 402.54578754578756, 314.42326909350464, 345.9757217847769, 335.8498985801217, 171.49084249084248, 158.81150959132611, 239.4581939799331, 258.5841007477371, 265.36258323811023, 201.6905123118217, 214.7391304347826, 218.67081604426002, 214.12700174409386, 219.62506902263942, 298.67660480681474, 341.9671179883946, 239.02605406065044, 239.02605406065044, 348.28386167146977, 230.8078138465958, 253.20576316974336, 155.31735751295338, 307.34342258440046, 224.17117117117118, 238.946158896914, 164.02128851540616, 212.78878504672898, 190.95733911785973, 287.8890147225368, 178.73211567732116, 196.8697234352256, 303.6502242152466, 305.6052955665025, 185.90446146913024, 232.10107850514171, 167.8927392739274, 337.601775236949, 404.070078928486, 363.83104185762295, 227.86852791878172, 142.09075630252102, 221.69375997163624, 248.16285278413426, 365.84656845131155, 198.7645721372468, 251.84188761858428, 155.9939393939394, 244.7755905511811, 251.5659050966608, ... ]"
      ]
     },
     "execution_count": 154,
     "metadata": {},
     "output_type": "execute_result"
    }
   ],
   "source": [
    "popularity_validation_predictions"
   ]
  },
  {
   "cell_type": "code",
   "execution_count": 158,
   "metadata": {
    "collapsed": false
   },
   "outputs": [
    {
     "data": {
      "text/plain": [
       "234.23168952860996"
      ]
     },
     "execution_count": 158,
     "metadata": {},
     "output_type": "execute_result"
    }
   ],
   "source": [
    "mean_absolute_error(correct_plays, popularity_validation_predictions)"
   ]
  },
  {
   "cell_type": "code",
   "execution_count": 166,
   "metadata": {
    "collapsed": false
   },
   "outputs": [
    {
     "data": {
      "text/html": [
       "<pre>Recsys training: model = item_similarity</pre>"
      ],
      "text/plain": [
       "Recsys training: model = item_similarity"
      ]
     },
     "metadata": {},
     "output_type": "display_data"
    },
    {
     "data": {
      "text/html": [
       "<pre>Preparing data set.</pre>"
      ],
      "text/plain": [
       "Preparing data set."
      ]
     },
     "metadata": {},
     "output_type": "display_data"
    },
    {
     "data": {
      "text/html": [
       "<pre>    Data has 3620458 observations with 233286 users and 2000 items.</pre>"
      ],
      "text/plain": [
       "    Data has 3620458 observations with 233286 users and 2000 items."
      ]
     },
     "metadata": {},
     "output_type": "display_data"
    },
    {
     "data": {
      "text/html": [
       "<pre>    Data prepared in: 3.96647s</pre>"
      ],
      "text/plain": [
       "    Data prepared in: 3.96647s"
      ]
     },
     "metadata": {},
     "output_type": "display_data"
    },
    {
     "data": {
      "text/html": [
       "<pre>Training model from provided data.</pre>"
      ],
      "text/plain": [
       "Training model from provided data."
      ]
     },
     "metadata": {},
     "output_type": "display_data"
    },
    {
     "data": {
      "text/html": [
       "<pre>Gathering per-item and per-user statistics.</pre>"
      ],
      "text/plain": [
       "Gathering per-item and per-user statistics."
      ]
     },
     "metadata": {},
     "output_type": "display_data"
    },
    {
     "data": {
      "text/html": [
       "<pre>+--------------------------------+------------+</pre>"
      ],
      "text/plain": [
       "+--------------------------------+------------+"
      ]
     },
     "metadata": {},
     "output_type": "display_data"
    },
    {
     "data": {
      "text/html": [
       "<pre>| Elapsed Time (Item Statistics) | % Complete |</pre>"
      ],
      "text/plain": [
       "| Elapsed Time (Item Statistics) | % Complete |"
      ]
     },
     "metadata": {},
     "output_type": "display_data"
    },
    {
     "data": {
      "text/html": [
       "<pre>+--------------------------------+------------+</pre>"
      ],
      "text/plain": [
       "+--------------------------------+------------+"
      ]
     },
     "metadata": {},
     "output_type": "display_data"
    },
    {
     "data": {
      "text/html": [
       "<pre>| 1.442ms                        | 0.75       |</pre>"
      ],
      "text/plain": [
       "| 1.442ms                        | 0.75       |"
      ]
     },
     "metadata": {},
     "output_type": "display_data"
    },
    {
     "data": {
      "text/html": [
       "<pre>| 140.39ms                       | 100        |</pre>"
      ],
      "text/plain": [
       "| 140.39ms                       | 100        |"
      ]
     },
     "metadata": {},
     "output_type": "display_data"
    },
    {
     "data": {
      "text/html": [
       "<pre>+--------------------------------+------------+</pre>"
      ],
      "text/plain": [
       "+--------------------------------+------------+"
      ]
     },
     "metadata": {},
     "output_type": "display_data"
    },
    {
     "data": {
      "text/html": [
       "<pre>Setting up lookup tables.</pre>"
      ],
      "text/plain": [
       "Setting up lookup tables."
      ]
     },
     "metadata": {},
     "output_type": "display_data"
    },
    {
     "data": {
      "text/html": [
       "<pre>Processing data in one pass using dense lookup tables.</pre>"
      ],
      "text/plain": [
       "Processing data in one pass using dense lookup tables."
      ]
     },
     "metadata": {},
     "output_type": "display_data"
    },
    {
     "data": {
      "text/html": [
       "<pre>+-------------------------------------+------------------+-----------------+</pre>"
      ],
      "text/plain": [
       "+-------------------------------------+------------------+-----------------+"
      ]
     },
     "metadata": {},
     "output_type": "display_data"
    },
    {
     "data": {
      "text/html": [
       "<pre>| Elapsed Time (Constructing Lookups) | Total % Complete | Items Processed |</pre>"
      ],
      "text/plain": [
       "| Elapsed Time (Constructing Lookups) | Total % Complete | Items Processed |"
      ]
     },
     "metadata": {},
     "output_type": "display_data"
    },
    {
     "data": {
      "text/html": [
       "<pre>+-------------------------------------+------------------+-----------------+</pre>"
      ],
      "text/plain": [
       "+-------------------------------------+------------------+-----------------+"
      ]
     },
     "metadata": {},
     "output_type": "display_data"
    },
    {
     "data": {
      "text/html": [
       "<pre>| 153.88ms                            | 0                | 0               |</pre>"
      ],
      "text/plain": [
       "| 153.88ms                            | 0                | 0               |"
      ]
     },
     "metadata": {},
     "output_type": "display_data"
    },
    {
     "data": {
      "text/html": [
       "<pre>| 890.282ms                           | 100              | 2000            |</pre>"
      ],
      "text/plain": [
       "| 890.282ms                           | 100              | 2000            |"
      ]
     },
     "metadata": {},
     "output_type": "display_data"
    },
    {
     "data": {
      "text/html": [
       "<pre>+-------------------------------------+------------------+-----------------+</pre>"
      ],
      "text/plain": [
       "+-------------------------------------+------------------+-----------------+"
      ]
     },
     "metadata": {},
     "output_type": "display_data"
    },
    {
     "data": {
      "text/html": [
       "<pre>Finalizing lookup tables.</pre>"
      ],
      "text/plain": [
       "Finalizing lookup tables."
      ]
     },
     "metadata": {},
     "output_type": "display_data"
    },
    {
     "data": {
      "text/html": [
       "<pre>Generating candidate set for working with new users.</pre>"
      ],
      "text/plain": [
       "Generating candidate set for working with new users."
      ]
     },
     "metadata": {},
     "output_type": "display_data"
    },
    {
     "data": {
      "text/html": [
       "<pre>Finished training in 1.02954s</pre>"
      ],
      "text/plain": [
       "Finished training in 1.02954s"
      ]
     },
     "metadata": {},
     "output_type": "display_data"
    }
   ],
   "source": [
    "similarity_recommender = graphlab.item_similarity_recommender.create(training_set, user_id = 'user', item_id='artist', target='plays', similarity_type='pearson')"
   ]
  },
  {
   "cell_type": "code",
   "execution_count": 168,
   "metadata": {
    "collapsed": false
   },
   "outputs": [],
   "source": [
    "item_validation_predictions = similarity_recommender.predict(validation_set)"
   ]
  },
  {
   "cell_type": "code",
   "execution_count": 169,
   "metadata": {
    "collapsed": false
   },
   "outputs": [
    {
     "data": {
      "text/plain": [
       "233.25759375065547"
      ]
     },
     "execution_count": 169,
     "metadata": {},
     "output_type": "execute_result"
    }
   ],
   "source": [
    "mean_absolute_error(correct_plays, item_validation_predictions)"
   ]
  },
  {
   "cell_type": "code",
   "execution_count": 174,
   "metadata": {
    "collapsed": false
   },
   "outputs": [
    {
     "data": {
      "text/html": [
       "<pre>Recsys training: model = factorization_recommender</pre>"
      ],
      "text/plain": [
       "Recsys training: model = factorization_recommender"
      ]
     },
     "metadata": {},
     "output_type": "display_data"
    },
    {
     "data": {
      "text/html": [
       "<pre>Preparing data set.</pre>"
      ],
      "text/plain": [
       "Preparing data set."
      ]
     },
     "metadata": {},
     "output_type": "display_data"
    },
    {
     "data": {
      "text/html": [
       "<pre>    Data has 3620458 observations with 233286 users and 2000 items.</pre>"
      ],
      "text/plain": [
       "    Data has 3620458 observations with 233286 users and 2000 items."
      ]
     },
     "metadata": {},
     "output_type": "display_data"
    },
    {
     "data": {
      "text/html": [
       "<pre>    Data prepared in: 3.73275s</pre>"
      ],
      "text/plain": [
       "    Data prepared in: 3.73275s"
      ]
     },
     "metadata": {},
     "output_type": "display_data"
    },
    {
     "data": {
      "text/html": [
       "<pre>Training factorization_recommender for recommendations.</pre>"
      ],
      "text/plain": [
       "Training factorization_recommender for recommendations."
      ]
     },
     "metadata": {},
     "output_type": "display_data"
    },
    {
     "data": {
      "text/html": [
       "<pre>+--------------------------------+--------------------------------------------------+----------+</pre>"
      ],
      "text/plain": [
       "+--------------------------------+--------------------------------------------------+----------+"
      ]
     },
     "metadata": {},
     "output_type": "display_data"
    },
    {
     "data": {
      "text/html": [
       "<pre>| Parameter                      | Description                                      | Value    |</pre>"
      ],
      "text/plain": [
       "| Parameter                      | Description                                      | Value    |"
      ]
     },
     "metadata": {},
     "output_type": "display_data"
    },
    {
     "data": {
      "text/html": [
       "<pre>+--------------------------------+--------------------------------------------------+----------+</pre>"
      ],
      "text/plain": [
       "+--------------------------------+--------------------------------------------------+----------+"
      ]
     },
     "metadata": {},
     "output_type": "display_data"
    },
    {
     "data": {
      "text/html": [
       "<pre>| num_factors                    | Factor Dimension                                 | 8        |</pre>"
      ],
      "text/plain": [
       "| num_factors                    | Factor Dimension                                 | 8        |"
      ]
     },
     "metadata": {},
     "output_type": "display_data"
    },
    {
     "data": {
      "text/html": [
       "<pre>| regularization                 | L2 Regularization on Factors                     | 1e-08    |</pre>"
      ],
      "text/plain": [
       "| regularization                 | L2 Regularization on Factors                     | 1e-08    |"
      ]
     },
     "metadata": {},
     "output_type": "display_data"
    },
    {
     "data": {
      "text/html": [
       "<pre>| solver                         | Solver used for training                         | sgd      |</pre>"
      ],
      "text/plain": [
       "| solver                         | Solver used for training                         | sgd      |"
      ]
     },
     "metadata": {},
     "output_type": "display_data"
    },
    {
     "data": {
      "text/html": [
       "<pre>| linear_regularization          | L2 Regularization on Linear Coefficients         | 1e-10    |</pre>"
      ],
      "text/plain": [
       "| linear_regularization          | L2 Regularization on Linear Coefficients         | 1e-10    |"
      ]
     },
     "metadata": {},
     "output_type": "display_data"
    },
    {
     "data": {
      "text/html": [
       "<pre>| max_iterations                 | Maximum Number of Iterations                     | 50       |</pre>"
      ],
      "text/plain": [
       "| max_iterations                 | Maximum Number of Iterations                     | 50       |"
      ]
     },
     "metadata": {},
     "output_type": "display_data"
    },
    {
     "data": {
      "text/html": [
       "<pre>+--------------------------------+--------------------------------------------------+----------+</pre>"
      ],
      "text/plain": [
       "+--------------------------------+--------------------------------------------------+----------+"
      ]
     },
     "metadata": {},
     "output_type": "display_data"
    },
    {
     "data": {
      "text/html": [
       "<pre>  Optimizing model using SGD; tuning step size.</pre>"
      ],
      "text/plain": [
       "  Optimizing model using SGD; tuning step size."
      ]
     },
     "metadata": {},
     "output_type": "display_data"
    },
    {
     "data": {
      "text/html": [
       "<pre>  Using 452557 / 3620458 points for tuning the step size.</pre>"
      ],
      "text/plain": [
       "  Using 452557 / 3620458 points for tuning the step size."
      ]
     },
     "metadata": {},
     "output_type": "display_data"
    },
    {
     "data": {
      "text/html": [
       "<pre>+---------+-------------------+------------------------------------------+</pre>"
      ],
      "text/plain": [
       "+---------+-------------------+------------------------------------------+"
      ]
     },
     "metadata": {},
     "output_type": "display_data"
    },
    {
     "data": {
      "text/html": [
       "<pre>| Attempt | Initial Step Size | Estimated Objective Value                |</pre>"
      ],
      "text/plain": [
       "| Attempt | Initial Step Size | Estimated Objective Value                |"
      ]
     },
     "metadata": {},
     "output_type": "display_data"
    },
    {
     "data": {
      "text/html": [
       "<pre>+---------+-------------------+------------------------------------------+</pre>"
      ],
      "text/plain": [
       "+---------+-------------------+------------------------------------------+"
      ]
     },
     "metadata": {},
     "output_type": "display_data"
    },
    {
     "data": {
      "text/html": [
       "<pre>| 0       | 25                | 340282                                   |</pre>"
      ],
      "text/plain": [
       "| 0       | 25                | 340282                                   |"
      ]
     },
     "metadata": {},
     "output_type": "display_data"
    },
    {
     "data": {
      "text/html": [
       "<pre>| 1       | 12.5              | 341277                                   |</pre>"
      ],
      "text/plain": [
       "| 1       | 12.5              | 341277                                   |"
      ]
     },
     "metadata": {},
     "output_type": "display_data"
    },
    {
     "data": {
      "text/html": [
       "<pre>| 2       | 6.25              | 340168                                   |</pre>"
      ],
      "text/plain": [
       "| 2       | 6.25              | 340168                                   |"
      ]
     },
     "metadata": {},
     "output_type": "display_data"
    },
    {
     "data": {
      "text/html": [
       "<pre>| 3       | 3.125             | 339848                                   |</pre>"
      ],
      "text/plain": [
       "| 3       | 3.125             | 339848                                   |"
      ]
     },
     "metadata": {},
     "output_type": "display_data"
    },
    {
     "data": {
      "text/html": [
       "<pre>| 4       | 1.5625            | 338540                                   |</pre>"
      ],
      "text/plain": [
       "| 4       | 1.5625            | 338540                                   |"
      ]
     },
     "metadata": {},
     "output_type": "display_data"
    },
    {
     "data": {
      "text/html": [
       "<pre>| 5       | 0.78125           | 334559                                   |</pre>"
      ],
      "text/plain": [
       "| 5       | 0.78125           | 334559                                   |"
      ]
     },
     "metadata": {},
     "output_type": "display_data"
    },
    {
     "data": {
      "text/html": [
       "<pre>| 6       | 0.390625          | 334184                                   |</pre>"
      ],
      "text/plain": [
       "| 6       | 0.390625          | 334184                                   |"
      ]
     },
     "metadata": {},
     "output_type": "display_data"
    },
    {
     "data": {
      "text/html": [
       "<pre>| 7       | 0.195312          | 333211                                   |</pre>"
      ],
      "text/plain": [
       "| 7       | 0.195312          | 333211                                   |"
      ]
     },
     "metadata": {},
     "output_type": "display_data"
    },
    {
     "data": {
      "text/html": [
       "<pre>| 8       | 0.0976562         | 333200                                   |</pre>"
      ],
      "text/plain": [
       "| 8       | 0.0976562         | 333200                                   |"
      ]
     },
     "metadata": {},
     "output_type": "display_data"
    },
    {
     "data": {
      "text/html": [
       "<pre>| 9       | 0.0488281         | 332690                                   |</pre>"
      ],
      "text/plain": [
       "| 9       | 0.0488281         | 332690                                   |"
      ]
     },
     "metadata": {},
     "output_type": "display_data"
    },
    {
     "data": {
      "text/html": [
       "<pre>| 10      | 0.0244141         | 330616                                   |</pre>"
      ],
      "text/plain": [
       "| 10      | 0.0244141         | 330616                                   |"
      ]
     },
     "metadata": {},
     "output_type": "display_data"
    },
    {
     "data": {
      "text/html": [
       "<pre>| 11      | 0.012207          | 327289                                   |</pre>"
      ],
      "text/plain": [
       "| 11      | 0.012207          | 327289                                   |"
      ]
     },
     "metadata": {},
     "output_type": "display_data"
    },
    {
     "data": {
      "text/html": [
       "<pre>| 12      | 0.00610352        | 319419                                   |</pre>"
      ],
      "text/plain": [
       "| 12      | 0.00610352        | 319419                                   |"
      ]
     },
     "metadata": {},
     "output_type": "display_data"
    },
    {
     "data": {
      "text/html": [
       "<pre>| 13      | 0.00305176        | 310823                                   |</pre>"
      ],
      "text/plain": [
       "| 13      | 0.00305176        | 310823                                   |"
      ]
     },
     "metadata": {},
     "output_type": "display_data"
    },
    {
     "data": {
      "text/html": [
       "<pre>| 14      | 0.00152588        | 305707                                   |</pre>"
      ],
      "text/plain": [
       "| 14      | 0.00152588        | 305707                                   |"
      ]
     },
     "metadata": {},
     "output_type": "display_data"
    },
    {
     "data": {
      "text/html": [
       "<pre>| 15      | 0.000762939       | 310833                                   |</pre>"
      ],
      "text/plain": [
       "| 15      | 0.000762939       | 310833                                   |"
      ]
     },
     "metadata": {},
     "output_type": "display_data"
    },
    {
     "data": {
      "text/html": [
       "<pre>| 16      | 0.00038147        | 311217                                   |</pre>"
      ],
      "text/plain": [
       "| 16      | 0.00038147        | 311217                                   |"
      ]
     },
     "metadata": {},
     "output_type": "display_data"
    },
    {
     "data": {
      "text/html": [
       "<pre>| 17      | 0.000190735       | 334353                                   |</pre>"
      ],
      "text/plain": [
       "| 17      | 0.000190735       | 334353                                   |"
      ]
     },
     "metadata": {},
     "output_type": "display_data"
    },
    {
     "data": {
      "text/html": [
       "<pre>+---------+-------------------+------------------------------------------+</pre>"
      ],
      "text/plain": [
       "+---------+-------------------+------------------------------------------+"
      ]
     },
     "metadata": {},
     "output_type": "display_data"
    },
    {
     "data": {
      "text/html": [
       "<pre>| Final   | 0.00152588        | 305707                                   |</pre>"
      ],
      "text/plain": [
       "| Final   | 0.00152588        | 305707                                   |"
      ]
     },
     "metadata": {},
     "output_type": "display_data"
    },
    {
     "data": {
      "text/html": [
       "<pre>+---------+-------------------+------------------------------------------+</pre>"
      ],
      "text/plain": [
       "+---------+-------------------+------------------------------------------+"
      ]
     },
     "metadata": {},
     "output_type": "display_data"
    },
    {
     "data": {
      "text/html": [
       "<pre>Starting Optimization.</pre>"
      ],
      "text/plain": [
       "Starting Optimization."
      ]
     },
     "metadata": {},
     "output_type": "display_data"
    },
    {
     "data": {
      "text/html": [
       "<pre>+---------+--------------+-------------------+-----------------------+-------------+</pre>"
      ],
      "text/plain": [
       "+---------+--------------+-------------------+-----------------------+-------------+"
      ]
     },
     "metadata": {},
     "output_type": "display_data"
    },
    {
     "data": {
      "text/html": [
       "<pre>| Iter.   | Elapsed Time | Approx. Objective | Approx. Training RMSE | Step Size   |</pre>"
      ],
      "text/plain": [
       "| Iter.   | Elapsed Time | Approx. Objective | Approx. Training RMSE | Step Size   |"
      ]
     },
     "metadata": {},
     "output_type": "display_data"
    },
    {
     "data": {
      "text/html": [
       "<pre>+---------+--------------+-------------------+-----------------------+-------------+</pre>"
      ],
      "text/plain": [
       "+---------+--------------+-------------------+-----------------------+-------------+"
      ]
     },
     "metadata": {},
     "output_type": "display_data"
    },
    {
     "data": {
      "text/html": [
       "<pre>| Initial | 70us         | 520340            | 721.346               |             |</pre>"
      ],
      "text/plain": [
       "| Initial | 70us         | 520340            | 721.346               |             |"
      ]
     },
     "metadata": {},
     "output_type": "display_data"
    },
    {
     "data": {
      "text/html": [
       "<pre>+---------+--------------+-------------------+-----------------------+-------------+</pre>"
      ],
      "text/plain": [
       "+---------+--------------+-------------------+-----------------------+-------------+"
      ]
     },
     "metadata": {},
     "output_type": "display_data"
    },
    {
     "data": {
      "text/html": [
       "<pre>| 1       | 322.099ms    | 475058            | 689.244               | 0.00152588  |</pre>"
      ],
      "text/plain": [
       "| 1       | 322.099ms    | 475058            | 689.244               | 0.00152588  |"
      ]
     },
     "metadata": {},
     "output_type": "display_data"
    },
    {
     "data": {
      "text/html": [
       "<pre>| 2       | 624.184ms    | 447846            | 669.213               | 0.000907293 |</pre>"
      ],
      "text/plain": [
       "| 2       | 624.184ms    | 447846            | 669.213               | 0.000907293 |"
      ]
     },
     "metadata": {},
     "output_type": "display_data"
    },
    {
     "data": {
      "text/html": [
       "<pre>| 3       | 921.051ms    | 436697            | 660.83                | 0.00066939  |</pre>"
      ],
      "text/plain": [
       "| 3       | 921.051ms    | 436697            | 660.83                | 0.00066939  |"
      ]
     },
     "metadata": {},
     "output_type": "display_data"
    },
    {
     "data": {
      "text/html": [
       "<pre>| 4       | 1.22s        | 428518            | 654.612               | 0.00053948  |</pre>"
      ],
      "text/plain": [
       "| 4       | 1.22s        | 428518            | 654.612               | 0.00053948  |"
      ]
     },
     "metadata": {},
     "output_type": "display_data"
    },
    {
     "data": {
      "text/html": [
       "<pre>| 5       | 1.53s        | 421998            | 649.613               | 0.000456344 |</pre>"
      ],
      "text/plain": [
       "| 5       | 1.53s        | 421998            | 649.613               | 0.000456344 |"
      ]
     },
     "metadata": {},
     "output_type": "display_data"
    },
    {
     "data": {
      "text/html": [
       "<pre>| 6       | 1.84s        | 416949            | 645.715               | 0.000398022 |</pre>"
      ],
      "text/plain": [
       "| 6       | 1.84s        | 416949            | 645.715               | 0.000398022 |"
      ]
     },
     "metadata": {},
     "output_type": "display_data"
    },
    {
     "data": {
      "text/html": [
       "<pre>| 10      | 3.01s        | 403017            | 634.835               | 0.000271344 |</pre>"
      ],
      "text/plain": [
       "| 10      | 3.01s        | 403017            | 634.835               | 0.000271344 |"
      ]
     },
     "metadata": {},
     "output_type": "display_data"
    },
    {
     "data": {
      "text/html": [
       "<pre>| 11      | 3.31s        | 400754            | 633.05                | 0.000252625 |</pre>"
      ],
      "text/plain": [
       "| 11      | 3.31s        | 400754            | 633.05                | 0.000252625 |"
      ]
     },
     "metadata": {},
     "output_type": "display_data"
    },
    {
     "data": {
      "text/html": [
       "<pre>| 15      | 4.50s        | 392830            | 626.76                | 0.000200194 |</pre>"
      ],
      "text/plain": [
       "| 15      | 4.50s        | 392830            | 626.76                | 0.000200194 |"
      ]
     },
     "metadata": {},
     "output_type": "display_data"
    },
    {
     "data": {
      "text/html": [
       "<pre>| 20      | 5.92s        | 385608            | 620.972               | 0.000161342 |</pre>"
      ],
      "text/plain": [
       "| 20      | 5.92s        | 385608            | 620.972               | 0.000161342 |"
      ]
     },
     "metadata": {},
     "output_type": "display_data"
    },
    {
     "data": {
      "text/html": [
       "<pre>| 25      | 7.40s        | 379268            | 615.845               | 0.000136479 |</pre>"
      ],
      "text/plain": [
       "| 25      | 7.40s        | 379268            | 615.845               | 0.000136479 |"
      ]
     },
     "metadata": {},
     "output_type": "display_data"
    },
    {
     "data": {
      "text/html": [
       "<pre>| 30      | 9.17s        | 373945            | 611.508               | 0.000119036 |</pre>"
      ],
      "text/plain": [
       "| 30      | 9.17s        | 373945            | 611.508               | 0.000119036 |"
      ]
     },
     "metadata": {},
     "output_type": "display_data"
    },
    {
     "data": {
      "text/html": [
       "<pre>| 35      | 10.63s       | 369077            | 607.514               | 0.00010604  |</pre>"
      ],
      "text/plain": [
       "| 35      | 10.63s       | 369077            | 607.514               | 0.00010604  |"
      ]
     },
     "metadata": {},
     "output_type": "display_data"
    },
    {
     "data": {
      "text/html": [
       "<pre>| 40      | 12.04s       | 364217            | 603.501               | 9.59346e-05 |</pre>"
      ],
      "text/plain": [
       "| 40      | 12.04s       | 364217            | 603.501               | 9.59346e-05 |"
      ]
     },
     "metadata": {},
     "output_type": "display_data"
    },
    {
     "data": {
      "text/html": [
       "<pre>| 45      | 13.46s       | 359828            | 599.854               | 8.78235e-05 |</pre>"
      ],
      "text/plain": [
       "| 45      | 13.46s       | 359828            | 599.854               | 8.78235e-05 |"
      ]
     },
     "metadata": {},
     "output_type": "display_data"
    },
    {
     "data": {
      "text/html": [
       "<pre>| 50      | 14.93s       | 355412            | 596.161               | 8.11508e-05 |</pre>"
      ],
      "text/plain": [
       "| 50      | 14.93s       | 355412            | 596.161               | 8.11508e-05 |"
      ]
     },
     "metadata": {},
     "output_type": "display_data"
    },
    {
     "data": {
      "text/html": [
       "<pre>+---------+--------------+-------------------+-----------------------+-------------+</pre>"
      ],
      "text/plain": [
       "+---------+--------------+-------------------+-----------------------+-------------+"
      ]
     },
     "metadata": {},
     "output_type": "display_data"
    },
    {
     "data": {
      "text/html": [
       "<pre>Optimization Complete: Maximum number of passes through the data reached.</pre>"
      ],
      "text/plain": [
       "Optimization Complete: Maximum number of passes through the data reached."
      ]
     },
     "metadata": {},
     "output_type": "display_data"
    },
    {
     "data": {
      "text/html": [
       "<pre>Computing final objective value and training RMSE.</pre>"
      ],
      "text/plain": [
       "Computing final objective value and training RMSE."
      ]
     },
     "metadata": {},
     "output_type": "display_data"
    },
    {
     "data": {
      "text/html": [
       "<pre>       Final objective value: 348833</pre>"
      ],
      "text/plain": [
       "       Final objective value: 348833"
      ]
     },
     "metadata": {},
     "output_type": "display_data"
    },
    {
     "data": {
      "text/html": [
       "<pre>       Final training RMSE: 590.618</pre>"
      ],
      "text/plain": [
       "       Final training RMSE: 590.618"
      ]
     },
     "metadata": {},
     "output_type": "display_data"
    }
   ],
   "source": [
    "factorization_recommender = graphlab.factorization_recommender.create(training_set, user_id = 'user', item_id='artist', target='plays')"
   ]
  },
  {
   "cell_type": "code",
   "execution_count": 175,
   "metadata": {
    "collapsed": true
   },
   "outputs": [],
   "source": [
    "factorization_recommender_predictions = factorization_recommender.predict(validation_set)"
   ]
  },
  {
   "cell_type": "code",
   "execution_count": 176,
   "metadata": {
    "collapsed": false
   },
   "outputs": [
    {
     "data": {
      "text/plain": [
       "220.7670107289708"
      ]
     },
     "execution_count": 176,
     "metadata": {},
     "output_type": "execute_result"
    }
   ],
   "source": [
    "mean_absolute_error(correct_plays, factorization_recommender_predictions)"
   ]
  },
  {
   "cell_type": "code",
   "execution_count": null,
   "metadata": {
    "collapsed": true
   },
   "outputs": [],
   "source": []
  }
 ],
 "metadata": {
  "anaconda-cloud": {},
  "kernelspec": {
   "display_name": "Python [conda env:graphlab-env]",
   "language": "python",
   "name": "conda-env-graphlab-env-py"
  },
  "language_info": {
   "codemirror_mode": {
    "name": "ipython",
    "version": 2
   },
   "file_extension": ".py",
   "mimetype": "text/x-python",
   "name": "python",
   "nbconvert_exporter": "python",
   "pygments_lexer": "ipython2",
   "version": "2.7.11"
  }
 },
 "nbformat": 4,
 "nbformat_minor": 1
}
